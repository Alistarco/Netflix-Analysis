import kagglehub as kh
import pandas as pd
import numpy as np
import matplotlib.pyplot as plt
import geopandas as gpd

# Download latest version
#path = kh.dataset_download("ariyoomotade/netflix-data-cleaning-analysis-and-visualization")
#print("Path to dataset files:", path)


"""
Objetivos:
Understanding what content is available in different countries HECHO
Does Netflix has more focus on TV Shows than movies in recent years. HECHO
Treat the Nulls HECHO
Treat the duplicates HECHO
Populate missing rows HECHO 
Drop unneeded columns HECHO
Split columns HECHO
¿Cuántos valores nulos encontrás en los datos? ¿Los puedes eliminar? HECHO
¿Cuántos valores incompletos encontrás en los datos? ¿Los puedes reemplazar? HECHO
¿Podés eliminar columnas que no te aportan información? ¿Cuáles son? ¿Por qué las eliminarías?
La columna “listed_in” contiene diferentes valores separados por coma, ¿Podés crear una columna y quedarte con el primer valor? HECHO
Lo mismo para country HECHO
"""


df = pd.read_csv('netflix_titles.csv')


df.columns.tolist


df.describe()


df.info()


lol = df.drop(['date_added','description','duration'], axis=1)



df = lol


df.isna().sum()


df[['director','cast']]


# Se agrupan las entradas por el cast, luego se selecciona la columna director y se le aplica la función lambda
# Se encuentra la moda del grupo (Si hay empate se selecciona el primer dato)
# Si no hay directores en el grupo se devuelve director no dado
directores_frecuentes = df.groupby('cast')['director'].agg(lambda x: x.mode()[0] if not x.mode().empty else "Director no dado")
# .combine_first combina dos series de tal forma que toma el valor de la primera serie "df['director']"
# Si tiene valores nan toma los valores de la segunda serie "df['cast'].map(directores_frecuentes)"
# df['cast'].map(directores_frecuentes) se toma cada elemento de la columna cast y se busca el director más frecuente
# Que se calculó en la función lambda 
df['director'] = df['director'].combine_first(df['cast'].map(directores_frecuentes))
# Pueden seguir habiendo valores nulos para grupos de cast ya que estos pueden tener directores nan asociados por lo que
# el resto de los nan que se tengan se reemplazarán con la siguiente función
df['director'].fillna("Director no dado", inplace=True)


df['director'].isna().sum()


df['director'].value_counts()


df.isna().sum()


country_frecuentes = df.groupby('director')['country'].agg(lambda x: x.mode()[0] if not x.mode().empty else "País no dado")
df['country'] = df['country'].combine_first(df['director'].map(country_frecuentes))


df.isna().sum()


df = df.dropna(subset=['date_added', 'rating','duration','cast'])


df.isna().sum()


df[['country','listed_in']]


dfcomas = df.copy()


# .str.split(',') Divide el contenido de cada celda en una lista
# separando los elementos con el identificador ","
# .str[0] toma el primer valor de la lista
# .str.strip() elimina espacios en blanco al inicio y al final del string
dfcomas['country']=df['country'].str.split(',').str[0].str.strip()
dfcomas['listed_in']=df['listed_in'].str.split(',').str[0].str.strip()


df = dfcomas


df.duplicated(subset=['title']).sum()


df.duplicated(subset=['show_id']).sum()


df.columns.tolist()


dfstrip = df[['show_id',
 'type',
 'title',
 'director',
 'cast',
 'country',
 'date_added',
 'rating',
 'duration',
 'listed_in',
 'description']]


dfstrip = dfstrip.map(lambda x: x.strip() if isinstance(x, str) else x)


dfstrip[dfstrip == ''].count()


dfstrip[dfstrip['country'].isin([''])]


dfstrip[dfstrip == ''].count()


df[['country','listed_in']] = dfstrip[['country','listed_in']]


df.info()


df[df == ''].count()


df = df[df['country'] != '']


df[df == ''].count()





tipoprograma=df['type'].value_counts()
nombretipo = tipoprograma.index
cantidadtipo = tipoprograma.values


plt.pie(cantidadtipo,labels=nombretipo,colors=['#FF6347', '#1E90FF'] ,autopct='%1.1f%%',startangle=90,shadow=True)
plt.title("Tipo de Contenido (%)")
plt.legend(nombretipo)
plt.axis('equal')








ewe=df[df['director']!='Director no dado']
grouped = ewe.groupby(['director', 'type'])['director'].count().unstack()
top10_directors = grouped.sum(axis=1).sort_values(ascending=False).head(10).index
plt.barh(top10_directors, grouped.loc[top10_directors]['Movie'], label='Movies')
plt.barh(top10_directors, grouped.loc[top10_directors]['TV Show'], left=grouped.loc[top10_directors]['Movie'], label='TV Shows')
plt.xticks(np.arange(0,20,2))
plt.xlim(0,19)
for i, v in enumerate(grouped.loc[top10_directors]['TV Show']):
    total = grouped.loc[top10_directors, :].sum(axis=1)[i]
    plt.text(total, i - 0.25, str(int(total)), color='black')

plt.legend()


awa=df[df['country']!='País no dado']
grouped = awa.groupby(['country', 'type'])['country'].count().unstack()
top10_countries = grouped.sum(axis=1).sort_values(ascending=False).head(10).index
plt.barh(top10_countries, grouped.loc[top10_countries]['Movie'], label='Movies')
plt.barh(top10_countries, grouped.loc[top10_countries]['TV Show'], left=grouped.loc[top10_countries]['Movie'], label='TV Shows')
for i, v in enumerate(grouped.loc[top10_countries]['TV Show']):
    total = grouped.loc[top10_countries, :].sum(axis=1)[i]
    plt.text(total + 1, i - 0.25, str(int(total)), color='black')
plt.legend()








df.columns


conteoaño.head(20)


conteoaño=df['release_year'].value_counts().head(14).sort_index(ascending=True)
año = conteoaño.index
cantidadaño = conteoaño.values


año


plt.scatter(año,cantidadaño)
plt.plot(año,cantidadaño)
plt.xticks(np.arange(2008,2022,1),rotation=90)
plt.grid()
for i in range(len(año)):
    plt.annotate(str(cantidadaño[i]), (año[i], cantidadaño[i]), ha='center', va='bottom')


plt.bar(año, cantidadaño,color='white')
plt.plot(año, cantidadaño, color='red')
plt.scatter(año,cantidadaño, color='red')
plt.xticks(np.arange(2008,2022,1),rotation=90)
plt.title("Cantidad de contenido añadido a través de los años")
for i in range(len(año)):
    plt.annotate(str(cantidadaño[i]), (año[i], cantidadaño[i]+10), ha='center', va='bottom')
plt.grid()


categoria = df['listed_in'].value_counts().head(10)
nombrecat = categoria.index
numcat = categoria.values


numcat


plt.barh(nombrecat,numcat)
plt.title("Top Genres")
for i in range(len(nombrecat)):
    plt.text(numcat[i]+50,i-0.2,str(numcat[i]), ha='center', va='bottom')


df['rating']


rating = df['rating'].value_counts()
nombrerat = rating.index
numrat = rating.values


plt.bar(nombrerat,numrat)
plt.title("Top Ratings")
for i in range(len(nombrerat)):
    plt.text(i,numrat[i]+10,str(numrat[i]), ha='center', va='bottom')
plt.xticks(rotation=90)


df.columns


antigua = df[['title','release_year']]


top10antiguas = antigua.sort_values(by='release_year',ascending=True).head(10)


top10antiguas['title'].values[0]


for i in range(len(top10antiguas['title'].values)):
    plt.barh(i, top10antiguas['title'].values,height=1, color='white', edgecolor='black')
    plt.text(0.01, i, top10antiguas['title'].values[9-i], color='k', fontsize=12)
    plt.text(0.9, i, top10antiguas['release_year'].values[9-i], color='k', fontsize=12)

plt.yticks([])
plt.xticks([])
plt.xlim(0,1)
plt.title("Las peliculas más antiguas")
plt.ylim(-0.5,9.5)


typeyear = df[['type','release_year']]


typeyear.sort_values(by='release_year',ascending=True)


typeyear.value_counts


conteoaño=df['release_year'].value_counts().head(14).sort_index(ascending=True)
año = conteoaño.index
cantidadaño = conteoaño.values





a=df[df['type'] == 'Movie']
b=df[df['type'] == 'TV Show']


a1=a['release_year'].value_counts().head(14).sort_index(axis=0,level=0,ascending=True)
b1=b['release_year'].value_counts().head(14).sort_index(ascending=True)


a1año=a1.index
cantidada1=a1.values
b1año=b1.index
cantidadb1=b1.values


b1





conteoaño=df['release_year'].value_counts().head(14).sort_index(ascending=True)
año = conteoaño.index
cantidadaño = conteoaño.values


plt.bar(a1año, cantidada1,color='white')
plt.plot(a1año, cantidada1, color='red',label="Movies")
plt.scatter(a1año,cantidada1, color='red')
plt.plot(b1año, cantidadb1, color='blue',label="TV Shows")
plt.scatter(b1año,cantidadb1, color='blue')
plt.xticks(np.arange(2008,2022,1),rotation=90)
plt.legend()
plt.title("Cantidad de contenido añadido a través de los años")
#for i in range(len(año)):
    #plt.annotate(str(cantidadaño[i]), (año[i], cantidadaño[i]+10), ha='center', va='bottom')
plt.grid()
